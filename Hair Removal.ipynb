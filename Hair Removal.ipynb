{
 "cells": [
  {
   "cell_type": "code",
   "execution_count": null,
   "id": "617be419",
   "metadata": {},
   "outputs": [],
   "source": [
    "import cv2\n",
    "import glob\n",
    "\n",
    "def remove_hair(image_path):\n",
    "   \n",
    "    img_main = cv2.imread(image_path)\n",
    "    grayScale = cv2.cvtColor(img_main, cv2.COLOR_RGB2GRAY)\n",
    "    kernel = cv2.getStructuringElement(cv2.MORPH_RECT, (17, 17))  # Adjust kernel size as needed\n",
    "    blackhat = cv2.morphologyEx(grayScale, cv2.MORPH_BLACKHAT, kernel)\n",
    "    ret, thresh2 = cv2.threshold(blackhat, 10, 255, cv2.THRESH_BINARY)\n",
    "    dst = cv2.inpaint(img_main, thresh2, 1, cv2.INPAINT_TELEA)\n",
    "\n",
    "    # Save the processed image a(replace with your desired output path)\n",
    "    cv2.imwrite(image_path, dst)\n",
    "\n",
    "# Replace with the actual directory containing your images\n",
    "image_dir = \"C:\\\\Users\\\\tumma\\\\Desktop\\\\skincancerdetection\\\\train\\\\Benign\"  # Modify as needed\n",
    "\n",
    "for img in glob.glob(f\"{image_dir}/*.jpg\"):\n",
    "    remove_hair(img)\n",
    "\n",
    "print(\"Hair removal completed for all images in the directory.\")\n"
   ]
  }
 ],
 "metadata": {
  "kernelspec": {
   "display_name": "Python 3 (ipykernel)",
   "language": "python",
   "name": "python3"
  },
  "language_info": {
   "codemirror_mode": {
    "name": "ipython",
    "version": 3
   },
   "file_extension": ".py",
   "mimetype": "text/x-python",
   "name": "python",
   "nbconvert_exporter": "python",
   "pygments_lexer": "ipython3",
   "version": "3.9.13"
  }
 },
 "nbformat": 4,
 "nbformat_minor": 5
}
